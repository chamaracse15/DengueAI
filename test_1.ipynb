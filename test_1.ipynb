{
 "cells": [
  {
   "cell_type": "code",
   "execution_count": 1,
   "metadata": {},
   "outputs": [
    {
     "data": {
      "text/plain": [
       "<Figure size 720x720 with 0 Axes>"
      ]
     },
     "metadata": {},
     "output_type": "display_data"
    }
   ],
   "source": [
    "import pandas as pd\n",
    "import numpy as np\n",
    "\n",
    "%matplotlib inline\n",
    "from matplotlib import pyplot as plt\n",
    "plt.figure(figsize=(10,10))\n",
    "\n",
    "import xgboost as xgb\n",
    "from sklearn.metrics import mean_absolute_error\n",
    "\n",
    "from sklearn.model_selection import train_test_split"
   ]
  },
  {
   "cell_type": "code",
   "execution_count": 2,
   "metadata": {},
   "outputs": [],
   "source": [
    "def handle_outliers(data, features):\n",
    "    df = data.copy(deep=True)\n",
    "    for c in features:\n",
    "        q1 = df[c].quantile(0.25)\n",
    "        q3 = df[c].quantile(0.75)\n",
    "        iqr = q3-q1 #Interquartile range\n",
    "            \n",
    "        fence_low  = q1-1.5*iqr\n",
    "        fence_high = q3+1.5*iqr\n",
    "        df[c][df[c] < fence_low] = fence_low\n",
    "        df[c][df[c] > fence_high] = fence_high\n",
    "        \n",
    "        return df"
   ]
  },
  {
   "cell_type": "code",
   "execution_count": 127,
   "metadata": {},
   "outputs": [],
   "source": [
    "def handle_missing(data, features):\n",
    "    df = data.copy(deep=True)\n",
    "    for c in features:\n",
    "        mean = df[c].mean()\n",
    "        df[c].fillna(mean, inplace=True)\n",
    "    return df"
   ]
  },
  {
   "cell_type": "code",
   "execution_count": 128,
   "metadata": {},
   "outputs": [],
   "source": [
    "def normalize(data):\n",
    "    df = data.copy(deep=True)\n",
    "    features = data.columns.values\n",
    "    for c in features:\n",
    "        c_max = max(df[c])\n",
    "        c_min = min(df[c])\n",
    "        df[c] = (df[c] - c_min)/(c_max-c_min)\n",
    "    return df"
   ]
  },
  {
   "cell_type": "code",
   "execution_count": 129,
   "metadata": {},
   "outputs": [],
   "source": [
    "def preprocess_data(data_path, labels_path=None):\n",
    "#     x_features = get_best_features(limit)\n",
    "#     print(x_features)\n",
    "    \n",
    "    df = pd.read_csv(data_path)\n",
    "   \n",
    "    df_1 = df.shift(1)\n",
    "    df_1 = df_1.add_suffix('_SHIFT_1')\n",
    "    df = pd.concat([df, df_1], axis=1)\n",
    "\n",
    "    df.fillna(method='bfill', inplace=True)\n",
    "    # df.dropna(inplace=True)\n",
    "    # df.interpolate(inplace=True)\n",
    "    \n",
    "    sj_x = df[df['city']=='sj']\n",
    "    iq_x = df[df['city']=='iq']\n",
    "    \n",
    "    sj_y = None\n",
    "    iq_y = None\n",
    "    if labels_path:\n",
    "        y = pd.read_csv(labels_path)\n",
    "        df = pd.concat([df, y['total_cases']], axis=1)\n",
    "        sj_y = y[y['city']=='sj'][['total_cases']]\n",
    "        iq_y = y[y['city']=='iq'][['total_cases']]\n",
    "\n",
    "    return sj_x, iq_x, sj_y, iq_y"
   ]
  },
  {
   "cell_type": "code",
   "execution_count": 130,
   "metadata": {},
   "outputs": [],
   "source": [
    "learning_rates = [ 0.05, 0.01, 0.1, 0.2, 0.25]\n",
    "colsample_bytree = [0.6, 0.7, 0.8, 0.9, 0.95]\n",
    "n_estimators = [5, 10, 15, 30]\n",
    "max_depth = [3, 4, 5, 9, 10, 11]\n",
    "\n",
    "def hyper_param_optimize(X, Y):\n",
    "    \n",
    "    lr_best = learning_rates[0]\n",
    "    cs_best = colsample_bytree[0]\n",
    "    es_best = n_estimators[0]\n",
    "    md_best = max_depth[0]\n",
    "    \n",
    "    best_mae = float(\"inf\")\n",
    "    counter = 0\n",
    "    \n",
    "    for lr in learning_rates:\n",
    "        for cs in colsample_bytree:\n",
    "            for es in n_estimators:\n",
    "                for md in max_depth:\n",
    "                    \n",
    "                    counter += 1\n",
    "                    x_train, x_test, y_train, y_test = train_test_split(X, Y, test_size=0.20)\n",
    "\n",
    "                    model = xgb.XGBRegressor(\n",
    "                        objective ='reg:linear',\n",
    "                        colsample_bytree = cs, \n",
    "                        learning_rate = lr, \n",
    "                        max_depth = md, \n",
    "                        n_estimators = es\n",
    "                    )\n",
    "                    \n",
    "                    model.fit(x_train, y_train)\n",
    "                    y_predict = model.predict(x_test)\n",
    "\n",
    "                    mae = mean_absolute_error(y_test, y_predict)**0.5\n",
    "\n",
    "                    if (mae < best_mae):\n",
    "                        best_mae = mae\n",
    "                        lr_best = lr\n",
    "                        cs_best = cs\n",
    "                        es_best = es\n",
    "                        md_best = md\n",
    "                            \n",
    "    print(counter, '** best model - lr', lr_best, 'cs', cs_best, 'es', es_best, 'md', md_best)\n",
    "    print('** best MAE - ', best_mae)\n",
    "    \n",
    "    return {'learning_rate': lr_best, 'colsample_bytree': cs_best, 'max_depth': md_best, \n",
    "            'n_estimators': es_best}"
   ]
  },
  {
   "cell_type": "code",
   "execution_count": 131,
   "metadata": {},
   "outputs": [],
   "source": [
    "def get_best_features(limit, x, y):\n",
    "    df = pd.concat([x, y], axis=1)\n",
    "    df = df._get_numeric_data().drop(['year'], axis=1)\n",
    "    corr = df.corr()\n",
    "    columns = abs(corr['total_cases']).sort_values().index[-1-limit:-1]\n",
    "    return columns"
   ]
  },
  {
   "cell_type": "markdown",
   "metadata": {},
   "source": [
    "# CODE"
   ]
  },
  {
   "cell_type": "code",
   "execution_count": 187,
   "metadata": {},
   "outputs": [],
   "source": [
    "train_feature_path = 'dengue_features_train_f.csv'\n",
    "train_label_path = 'dengue_labels_train.csv'\n",
    "test_feature_path = 'dengue_features_test_f.csv'\n",
    "\n",
    "sj_limit = 7\n",
    "iq_limit = 14"
   ]
  },
  {
   "cell_type": "code",
   "execution_count": 188,
   "metadata": {
    "scrolled": false
   },
   "outputs": [],
   "source": [
    "sj_x, iq_x, sj_y, iq_y = preprocess_data(train_feature_path, train_label_path)"
   ]
  },
  {
   "cell_type": "code",
   "execution_count": 189,
   "metadata": {},
   "outputs": [
    {
     "name": "stdout",
     "output_type": "stream",
     "text": [
      "sj_x -  (936, 50)\n",
      "sj_y -  (936, 1)\n",
      "iq_x -  (520, 50)\n",
      "iq_y -  (520, 1)\n"
     ]
    }
   ],
   "source": [
    "print('sj_x - ', sj_x.shape)\n",
    "print('sj_y - ', sj_y.shape)\n",
    "print('iq_x - ', iq_x.shape)\n",
    "print('iq_y - ', iq_y.shape)"
   ]
  },
  {
   "cell_type": "code",
   "execution_count": 190,
   "metadata": {},
   "outputs": [],
   "source": [
    "sj_features = get_best_features(sj_limit, sj_x, sj_y)\n",
    "iq_features = get_best_features(iq_limit, iq_x, iq_y)"
   ]
  },
  {
   "cell_type": "code",
   "execution_count": 191,
   "metadata": {},
   "outputs": [],
   "source": [
    "sj_x = sj_x[sj_features]\n",
    "iq_x = iq_x[iq_features]\n",
    "\n",
    "# sj_x = normalize(sj_x[iq_features])\n",
    "# iq_x = normalize(iq_x[iq_features])\n",
    "\n",
    "# sj_y = normalize(sj_y)\n",
    "# iq_y  = normalize(iq_y)"
   ]
  },
  {
   "cell_type": "code",
   "execution_count": 192,
   "metadata": {},
   "outputs": [
    {
     "name": "stdout",
     "output_type": "stream",
     "text": [
      "sj_x -  (936, 7)\n",
      "sj_y -  (936, 1)\n",
      "iq_x -  (520, 14)\n",
      "iq_y -  (520, 1)\n"
     ]
    }
   ],
   "source": [
    "print('sj_x - ', sj_x.shape)\n",
    "print('sj_y - ', sj_y.shape)\n",
    "print('iq_x - ', iq_x.shape)\n",
    "print('iq_y - ', iq_y.shape)"
   ]
  },
  {
   "cell_type": "code",
   "execution_count": 193,
   "metadata": {},
   "outputs": [
    {
     "name": "stdout",
     "output_type": "stream",
     "text": [
      "600 ** best model - lr 0.25 cs 0.9 es 15 md 11\n",
      "** best MAE -  2.8120275317026504\n"
     ]
    }
   ],
   "source": [
    "sj_param = hyper_param_optimize(sj_x, sj_y)"
   ]
  },
  {
   "cell_type": "code",
   "execution_count": 194,
   "metadata": {},
   "outputs": [
    {
     "name": "stdout",
     "output_type": "stream",
     "text": [
      "600 ** best model - lr 0.1 cs 0.95 es 15 md 4\n",
      "** best MAE -  1.9315631564158207\n"
     ]
    }
   ],
   "source": [
    "iq_param = hyper_param_optimize(iq_x, iq_y)"
   ]
  },
  {
   "cell_type": "code",
   "execution_count": 195,
   "metadata": {},
   "outputs": [],
   "source": [
    "# best model - lr 0.1 cs 0.6 es 5 md 3 al 8\n",
    "# best model - lr 0.05 cs 0.9 es 15 md 5 al 8\n",
    "# MAE = 4.23\n",
    "# best model - lr 0.1 cs 0.6 es 15 md 4 al 8\n",
    "# best model - lr 0.2 cs 0.8 es 5 md 10 al 4\n",
    "# MAE = 2.10\n",
    "\n",
    "\n",
    "#interpolate, _f, without alpha 4.083 2.129\n",
    "#interpolate, _f, without alpha feature_selection 2.724 1.684\n",
    "\n",
    "#interpolate, _f, without alpha feature_selection 2.810 1.901"
   ]
  },
  {
   "cell_type": "code",
   "execution_count": 196,
   "metadata": {},
   "outputs": [],
   "source": [
    "sj_test, iq_test, _, _ = preprocess_data(test_feature_path)"
   ]
  },
  {
   "cell_type": "code",
   "execution_count": 197,
   "metadata": {},
   "outputs": [],
   "source": [
    "# sj_test = normalize(sj_test[sj_features])\n",
    "# iq_test = normalize(iq_test[iq_features])\n",
    "\n",
    "sj_test = sj_test[sj_features]\n",
    "iq_test = iq_test[iq_features]"
   ]
  },
  {
   "cell_type": "code",
   "execution_count": 198,
   "metadata": {},
   "outputs": [],
   "source": [
    "sj_model = xgb.XGBRegressor(\n",
    "    objective ='reg:linear',\n",
    "    colsample_bytree = sj_param['colsample_bytree'], \n",
    "    learning_rate = sj_param['learning_rate'], \n",
    "    max_depth = sj_param['max_depth'], \n",
    "    n_estimators = sj_param['n_estimators']\n",
    ")\n",
    "iq_model = xgb.XGBRegressor(\n",
    "    objective ='reg:linear',\n",
    "    colsample_bytree = iq_param['colsample_bytree'], \n",
    "    learning_rate = iq_param['learning_rate'], \n",
    "    max_depth = iq_param['max_depth'], \n",
    "    n_estimators = iq_param['n_estimators']\n",
    ")\n",
    "sj_model.fit(sj_x, sj_y)\n",
    "iq_model.fit(iq_x, iq_y)\n",
    "\n",
    "sj_predict = sj_model.predict(sj_test)\n",
    "iq_predict = iq_model.predict(iq_test)"
   ]
  },
  {
   "cell_type": "code",
   "execution_count": 199,
   "metadata": {},
   "outputs": [],
   "source": [
    "test_df = pd.read_csv('./dengue_features_test.csv')[['city', 'year', 'weekofyear']]\n",
    "\n",
    "total_cases = pd.concat([pd.Series(sj_predict), pd.Series(iq_predict)])\n",
    "\n",
    "total_cases.index = test_df.index\n",
    "test_df['total_cases'] = total_cases.astype(int)\n",
    "\n",
    "test_df.to_csv('./submission.csv', index=False)"
   ]
  },
  {
   "cell_type": "code",
   "execution_count": 200,
   "metadata": {},
   "outputs": [
    {
     "data": {
      "text/plain": [
       "array([  3,   4,   6,   8,  10,  13,  15,  26,  27,  28,  41,  36,  69,\n",
       "       148,  63,  75,  53,  44,  81, 101, 115,  59,  50,  35,  12,  14,\n",
       "        16,   7,   2,   1,  29,  31,  67,  65,  68,  78,  33,  88,  99,\n",
       "        84, 102,  58,  42,  32,  60,  66,  70,  54,  37,  24,  21,  11,\n",
       "         9,   0,  25,  30,  34,  52,  39,  40,  62,  85,  55,  82,  46,\n",
       "        23,  20,   5,  51,  47,  45,  90,  80,  19,  17,  18,  74,  38,\n",
       "       110, 104, 100,  94, 106,  48,  22], dtype=int64)"
      ]
     },
     "execution_count": 200,
     "metadata": {},
     "output_type": "execute_result"
    }
   ],
   "source": [
    "test_df['total_cases'].unique()"
   ]
  },
  {
   "cell_type": "code",
   "execution_count": 201,
   "metadata": {},
   "outputs": [
    {
     "data": {
      "text/plain": [
       "(416,)"
      ]
     },
     "execution_count": 201,
     "metadata": {},
     "output_type": "execute_result"
    }
   ],
   "source": [
    "test_df['total_cases'].shape"
   ]
  },
  {
   "cell_type": "code",
   "execution_count": null,
   "metadata": {},
   "outputs": [],
   "source": []
  },
  {
   "cell_type": "code",
   "execution_count": null,
   "metadata": {},
   "outputs": [],
   "source": []
  },
  {
   "cell_type": "code",
   "execution_count": null,
   "metadata": {},
   "outputs": [],
   "source": []
  },
  {
   "cell_type": "code",
   "execution_count": 123,
   "metadata": {},
   "outputs": [
    {
     "data": {
      "text/html": [
       "<div>\n",
       "<style scoped>\n",
       "    .dataframe tbody tr th:only-of-type {\n",
       "        vertical-align: middle;\n",
       "    }\n",
       "\n",
       "    .dataframe tbody tr th {\n",
       "        vertical-align: top;\n",
       "    }\n",
       "\n",
       "    .dataframe thead th {\n",
       "        text-align: right;\n",
       "    }\n",
       "</style>\n",
       "<table border=\"1\" class=\"dataframe\">\n",
       "  <thead>\n",
       "    <tr style=\"text-align: right;\">\n",
       "      <th></th>\n",
       "      <th>total_cases</th>\n",
       "    </tr>\n",
       "  </thead>\n",
       "  <tbody>\n",
       "    <tr>\n",
       "      <th>0</th>\n",
       "      <td>4</td>\n",
       "    </tr>\n",
       "    <tr>\n",
       "      <th>1</th>\n",
       "      <td>5</td>\n",
       "    </tr>\n",
       "    <tr>\n",
       "      <th>2</th>\n",
       "      <td>4</td>\n",
       "    </tr>\n",
       "    <tr>\n",
       "      <th>3</th>\n",
       "      <td>3</td>\n",
       "    </tr>\n",
       "    <tr>\n",
       "      <th>4</th>\n",
       "      <td>6</td>\n",
       "    </tr>\n",
       "  </tbody>\n",
       "</table>\n",
       "</div>"
      ],
      "text/plain": [
       "   total_cases\n",
       "0            4\n",
       "1            5\n",
       "2            4\n",
       "3            3\n",
       "4            6"
      ]
     },
     "execution_count": 123,
     "metadata": {},
     "output_type": "execute_result"
    }
   ],
   "source": [
    "sj_y.head()"
   ]
  },
  {
   "cell_type": "code",
   "execution_count": 125,
   "metadata": {},
   "outputs": [
    {
     "data": {
      "text/plain": [
       "array(['total_cases'], dtype=object)"
      ]
     },
     "execution_count": 125,
     "metadata": {},
     "output_type": "execute_result"
    }
   ],
   "source": [
    "sj_y.columns.values"
   ]
  },
  {
   "cell_type": "code",
   "execution_count": null,
   "metadata": {},
   "outputs": [],
   "source": []
  },
  {
   "cell_type": "code",
   "execution_count": 122,
   "metadata": {},
   "outputs": [
    {
     "data": {
      "text/plain": [
       "(930, 15)"
      ]
     },
     "execution_count": 122,
     "metadata": {},
     "output_type": "execute_result"
    }
   ],
   "source": [
    "sj_x.shape"
   ]
  },
  {
   "cell_type": "code",
   "execution_count": 125,
   "metadata": {},
   "outputs": [],
   "source": [
    "sj = pd.concat([sj_x, sj_y], axis=1)"
   ]
  },
  {
   "cell_type": "code",
   "execution_count": 128,
   "metadata": {},
   "outputs": [
    {
     "data": {
      "text/html": [
       "<div>\n",
       "<style scoped>\n",
       "    .dataframe tbody tr th:only-of-type {\n",
       "        vertical-align: middle;\n",
       "    }\n",
       "\n",
       "    .dataframe tbody tr th {\n",
       "        vertical-align: top;\n",
       "    }\n",
       "\n",
       "    .dataframe thead th {\n",
       "        text-align: right;\n",
       "    }\n",
       "</style>\n",
       "<table border=\"1\" class=\"dataframe\">\n",
       "  <thead>\n",
       "    <tr style=\"text-align: right;\">\n",
       "      <th></th>\n",
       "      <th>station_min_temp_c</th>\n",
       "      <th>months</th>\n",
       "      <th>weekofyear</th>\n",
       "      <th>months_SHIFT_1</th>\n",
       "      <th>weekofyear_SHIFT_1</th>\n",
       "      <th>reanalysis_air_temp_k_SHIFT_1</th>\n",
       "      <th>reanalysis_max_air_temp_k_SHIFT_1</th>\n",
       "      <th>station_min_temp_c_SHIFT_1</th>\n",
       "      <th>reanalysis_max_air_temp_k</th>\n",
       "      <th>station_diur_temp_rng_c</th>\n",
       "      <th>station_diur_temp_rng_c_SHIFT_1</th>\n",
       "      <th>reanalysis_tdtr_k_SHIFT_1</th>\n",
       "      <th>reanalysis_tdtr_k</th>\n",
       "      <th>reanalysis_min_air_temp_k</th>\n",
       "      <th>reanalysis_min_air_temp_k_SHIFT_1</th>\n",
       "      <th>total_cases</th>\n",
       "    </tr>\n",
       "  </thead>\n",
       "  <tbody>\n",
       "    <tr>\n",
       "      <th>0</th>\n",
       "      <td>20.0</td>\n",
       "      <td>4.0</td>\n",
       "      <td>18.0</td>\n",
       "      <td>4.0</td>\n",
       "      <td>18.0</td>\n",
       "      <td>297.572857</td>\n",
       "      <td>299.8</td>\n",
       "      <td>20.0</td>\n",
       "      <td>299.8</td>\n",
       "      <td>6.900000</td>\n",
       "      <td>6.900000</td>\n",
       "      <td>2.628571</td>\n",
       "      <td>2.628571</td>\n",
       "      <td>295.9</td>\n",
       "      <td>295.9</td>\n",
       "      <td>4</td>\n",
       "    </tr>\n",
       "    <tr>\n",
       "      <th>1</th>\n",
       "      <td>22.2</td>\n",
       "      <td>5.0</td>\n",
       "      <td>19.0</td>\n",
       "      <td>4.0</td>\n",
       "      <td>18.0</td>\n",
       "      <td>297.572857</td>\n",
       "      <td>299.8</td>\n",
       "      <td>20.0</td>\n",
       "      <td>300.9</td>\n",
       "      <td>6.371429</td>\n",
       "      <td>6.900000</td>\n",
       "      <td>2.628571</td>\n",
       "      <td>2.371429</td>\n",
       "      <td>296.4</td>\n",
       "      <td>295.9</td>\n",
       "      <td>5</td>\n",
       "    </tr>\n",
       "    <tr>\n",
       "      <th>2</th>\n",
       "      <td>22.8</td>\n",
       "      <td>5.0</td>\n",
       "      <td>20.0</td>\n",
       "      <td>5.0</td>\n",
       "      <td>19.0</td>\n",
       "      <td>298.211429</td>\n",
       "      <td>300.9</td>\n",
       "      <td>22.2</td>\n",
       "      <td>300.5</td>\n",
       "      <td>6.485714</td>\n",
       "      <td>6.371429</td>\n",
       "      <td>2.371429</td>\n",
       "      <td>2.300000</td>\n",
       "      <td>297.3</td>\n",
       "      <td>296.4</td>\n",
       "      <td>4</td>\n",
       "    </tr>\n",
       "    <tr>\n",
       "      <th>3</th>\n",
       "      <td>23.3</td>\n",
       "      <td>5.0</td>\n",
       "      <td>21.0</td>\n",
       "      <td>5.0</td>\n",
       "      <td>20.0</td>\n",
       "      <td>298.781429</td>\n",
       "      <td>300.5</td>\n",
       "      <td>22.8</td>\n",
       "      <td>301.4</td>\n",
       "      <td>6.771429</td>\n",
       "      <td>6.485714</td>\n",
       "      <td>2.300000</td>\n",
       "      <td>2.428571</td>\n",
       "      <td>297.0</td>\n",
       "      <td>297.3</td>\n",
       "      <td>3</td>\n",
       "    </tr>\n",
       "    <tr>\n",
       "      <th>4</th>\n",
       "      <td>23.9</td>\n",
       "      <td>5.0</td>\n",
       "      <td>22.0</td>\n",
       "      <td>5.0</td>\n",
       "      <td>21.0</td>\n",
       "      <td>298.987143</td>\n",
       "      <td>301.4</td>\n",
       "      <td>23.3</td>\n",
       "      <td>301.9</td>\n",
       "      <td>9.371429</td>\n",
       "      <td>6.771429</td>\n",
       "      <td>2.428571</td>\n",
       "      <td>3.014286</td>\n",
       "      <td>297.5</td>\n",
       "      <td>297.0</td>\n",
       "      <td>6</td>\n",
       "    </tr>\n",
       "  </tbody>\n",
       "</table>\n",
       "</div>"
      ],
      "text/plain": [
       "   station_min_temp_c  months  weekofyear  months_SHIFT_1  weekofyear_SHIFT_1  \\\n",
       "0                20.0     4.0        18.0             4.0                18.0   \n",
       "1                22.2     5.0        19.0             4.0                18.0   \n",
       "2                22.8     5.0        20.0             5.0                19.0   \n",
       "3                23.3     5.0        21.0             5.0                20.0   \n",
       "4                23.9     5.0        22.0             5.0                21.0   \n",
       "\n",
       "   reanalysis_air_temp_k_SHIFT_1  reanalysis_max_air_temp_k_SHIFT_1  \\\n",
       "0                     297.572857                              299.8   \n",
       "1                     297.572857                              299.8   \n",
       "2                     298.211429                              300.9   \n",
       "3                     298.781429                              300.5   \n",
       "4                     298.987143                              301.4   \n",
       "\n",
       "   station_min_temp_c_SHIFT_1  reanalysis_max_air_temp_k  \\\n",
       "0                        20.0                      299.8   \n",
       "1                        20.0                      300.9   \n",
       "2                        22.2                      300.5   \n",
       "3                        22.8                      301.4   \n",
       "4                        23.3                      301.9   \n",
       "\n",
       "   station_diur_temp_rng_c  station_diur_temp_rng_c_SHIFT_1  \\\n",
       "0                 6.900000                         6.900000   \n",
       "1                 6.371429                         6.900000   \n",
       "2                 6.485714                         6.371429   \n",
       "3                 6.771429                         6.485714   \n",
       "4                 9.371429                         6.771429   \n",
       "\n",
       "   reanalysis_tdtr_k_SHIFT_1  reanalysis_tdtr_k  reanalysis_min_air_temp_k  \\\n",
       "0                   2.628571           2.628571                      295.9   \n",
       "1                   2.628571           2.371429                      296.4   \n",
       "2                   2.371429           2.300000                      297.3   \n",
       "3                   2.300000           2.428571                      297.0   \n",
       "4                   2.428571           3.014286                      297.5   \n",
       "\n",
       "   reanalysis_min_air_temp_k_SHIFT_1  total_cases  \n",
       "0                              295.9            4  \n",
       "1                              295.9            5  \n",
       "2                              296.4            4  \n",
       "3                              297.3            3  \n",
       "4                              297.0            6  "
      ]
     },
     "execution_count": 128,
     "metadata": {},
     "output_type": "execute_result"
    }
   ],
   "source": [
    "sj.head()"
   ]
  },
  {
   "cell_type": "code",
   "execution_count": 131,
   "metadata": {},
   "outputs": [],
   "source": [
    "corr = sj.corr()\n",
    "columns = abs(corr['total_cases']).sort_values()"
   ]
  },
  {
   "cell_type": "code",
   "execution_count": 132,
   "metadata": {},
   "outputs": [
    {
     "data": {
      "text/plain": [
       "station_diur_temp_rng_c_SHIFT_1      0.035465\n",
       "station_diur_temp_rng_c              0.039291\n",
       "station_min_temp_c                   0.076224\n",
       "reanalysis_max_air_temp_k            0.082645\n",
       "reanalysis_min_air_temp_k            0.097787\n",
       "reanalysis_tdtr_k_SHIFT_1            0.107028\n",
       "station_min_temp_c_SHIFT_1           0.115101\n",
       "reanalysis_air_temp_k_SHIFT_1        0.115133\n",
       "reanalysis_tdtr_k                    0.123134\n",
       "reanalysis_min_air_temp_k_SHIFT_1    0.129229\n",
       "reanalysis_max_air_temp_k_SHIFT_1    0.129532\n",
       "months                               0.288334\n",
       "months_SHIFT_1                       0.295878\n",
       "weekofyear                           0.296069\n",
       "weekofyear_SHIFT_1                   0.297619\n",
       "total_cases                          1.000000\n",
       "Name: total_cases, dtype: float64"
      ]
     },
     "execution_count": 132,
     "metadata": {},
     "output_type": "execute_result"
    }
   ],
   "source": [
    "columns"
   ]
  },
  {
   "cell_type": "code",
   "execution_count": null,
   "metadata": {},
   "outputs": [],
   "source": []
  },
  {
   "cell_type": "code",
   "execution_count": 153,
   "metadata": {},
   "outputs": [],
   "source": [
    "df = pd.read_csv(train_feature_path)\n",
    "df = df._get_numeric_data().drop(['year', 'ndvi_se', 'ndvi_sw', 'ndvi_ne', 'ndvi_nw'], axis=1)\n",
    "df_1 = df.shift(1)\n",
    "df_1 = df_1.add_suffix('_SHIFT_1')\n",
    "df = pd.concat([df, df_1], axis=1)\n",
    "df['total_cases'] = pd.read_csv(train_label_path).total_cases\n",
    "\n",
    "corr = df.corr()\n",
    "print\n",
    "columns = abs(corr['total_cases']).sort_values()"
   ]
  },
  {
   "cell_type": "code",
   "execution_count": 156,
   "metadata": {},
   "outputs": [
    {
     "data": {
      "text/plain": [
       "pandas.core.series.Series"
      ]
     },
     "execution_count": 156,
     "metadata": {},
     "output_type": "execute_result"
    }
   ],
   "source": [
    "type(abs(corr['total_cases']))"
   ]
  },
  {
   "cell_type": "code",
   "execution_count": null,
   "metadata": {},
   "outputs": [],
   "source": [
    "def preprocess_data(data_path, labels_path=None):\n",
    "\n",
    "#     x_features = get_best_features(limit)\n",
    "#     print(x_features)\n",
    "    y_features = ['total_cases']\n",
    "    \n",
    "    df = pd.read_csv(data_path)\n",
    "   \n",
    "    df_1 = df.shift(1)\n",
    "    df_1 = df_1.add_suffix('_SHIFT_1')\n",
    "    df = pd.concat([df, df_1], axis=1)\n",
    "    \n",
    "    if labels_path:\n",
    "        y = pd.read_csv(labels_path)\n",
    "        df = pd.concat([df, y[y_features]], axis=1)\n",
    "#         df = handle_missing(df, x_features + y_features)\n",
    "#         df = handle_outliers(df, x_features + y_features)\n",
    "#         df = normalize(df, x_features)\n",
    "#     else:\n",
    "#         df = handle_missing(df, x_features)\n",
    "#         df = normalize(df, x_features)\n",
    "    \n",
    "    df.fillna(method='bfill', inplace=True)\n",
    "#     df.interpolate(inplace=True)\n",
    "    \n",
    "    sj_x = df[df['city']=='sj'][x_features]\n",
    "    iq_x = df[df['city']=='iq'][x_features]\n",
    "    \n",
    "    sj_y = None\n",
    "    iq_y = None\n",
    "    if labels_path:\n",
    "        sj_y = df[df['city']=='sj'][y_features]\n",
    "        iq_y = df[df['city']=='iq'][y_features]\n",
    "\n",
    "    return sj_x, iq_x, sj_y, iq_y"
   ]
  }
 ],
 "metadata": {
  "kernelspec": {
   "display_name": "Python (nn_all)",
   "language": "python",
   "name": "nn_all"
  },
  "language_info": {
   "codemirror_mode": {
    "name": "ipython",
    "version": 3
   },
   "file_extension": ".py",
   "mimetype": "text/x-python",
   "name": "python",
   "nbconvert_exporter": "python",
   "pygments_lexer": "ipython3",
   "version": "3.6.7"
  }
 },
 "nbformat": 4,
 "nbformat_minor": 2
}
